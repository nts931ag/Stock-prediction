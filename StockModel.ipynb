{
 "cells": [
  {
   "cell_type": "code",
   "execution_count": 1,
   "metadata": {
    "id": "2asSVZOzjaLk"
   },
   "outputs": [],
   "source": [
    "import numpy as np\n",
    "import math\n",
    "# import yfinance as yf\n",
    "import matplotlib.pyplot as plt\n",
    "import pandas as pd \n",
    "from tensorflow.keras.models import Sequential\n",
    "from tensorflow.keras.layers import Dense, LSTM\n",
    "from sklearn.preprocessing import MinMaxScaler\n",
    "from tensorflow.keras.models import load_model"
   ]
  },
  {
   "cell_type": "markdown",
   "metadata": {
    "id": "clHXQsTHPvvH"
   },
   "source": [
    "# STOCK DATA"
   ]
  },
  {
   "cell_type": "code",
   "execution_count": 2,
   "metadata": {
    "colab": {
     "base_uri": "https://localhost:8080/",
     "height": 414
    },
    "id": "L2WriQ4bjaLl",
    "outputId": "bd92b12e-5b3c-42a5-df75-05bd9169f998"
   },
   "outputs": [
    {
     "data": {
      "text/html": [
       "<div>\n",
       "<style scoped>\n",
       "    .dataframe tbody tr th:only-of-type {\n",
       "        vertical-align: middle;\n",
       "    }\n",
       "\n",
       "    .dataframe tbody tr th {\n",
       "        vertical-align: top;\n",
       "    }\n",
       "\n",
       "    .dataframe thead th {\n",
       "        text-align: right;\n",
       "    }\n",
       "</style>\n",
       "<table border=\"1\" class=\"dataframe\">\n",
       "  <thead>\n",
       "    <tr style=\"text-align: right;\">\n",
       "      <th></th>\n",
       "      <th>Date</th>\n",
       "      <th>open</th>\n",
       "      <th>high</th>\n",
       "      <th>low</th>\n",
       "      <th>close</th>\n",
       "      <th>adj_close</th>\n",
       "      <th>volume</th>\n",
       "    </tr>\n",
       "  </thead>\n",
       "  <tbody>\n",
       "    <tr>\n",
       "      <th>0</th>\n",
       "      <td>1999-12-31</td>\n",
       "      <td>58.750000</td>\n",
       "      <td>58.875000</td>\n",
       "      <td>58.125000</td>\n",
       "      <td>58.375000</td>\n",
       "      <td>36.991508</td>\n",
       "      <td>12517600</td>\n",
       "    </tr>\n",
       "    <tr>\n",
       "      <th>1</th>\n",
       "      <td>2000-01-03</td>\n",
       "      <td>58.687500</td>\n",
       "      <td>59.312500</td>\n",
       "      <td>56.000000</td>\n",
       "      <td>58.281250</td>\n",
       "      <td>36.932102</td>\n",
       "      <td>53228400</td>\n",
       "    </tr>\n",
       "    <tr>\n",
       "      <th>2</th>\n",
       "      <td>2000-01-04</td>\n",
       "      <td>56.781250</td>\n",
       "      <td>58.562500</td>\n",
       "      <td>56.125000</td>\n",
       "      <td>56.312500</td>\n",
       "      <td>35.684532</td>\n",
       "      <td>54119000</td>\n",
       "    </tr>\n",
       "    <tr>\n",
       "      <th>3</th>\n",
       "      <td>2000-01-05</td>\n",
       "      <td>55.562500</td>\n",
       "      <td>58.187500</td>\n",
       "      <td>54.687500</td>\n",
       "      <td>56.906250</td>\n",
       "      <td>36.060772</td>\n",
       "      <td>64059600</td>\n",
       "    </tr>\n",
       "    <tr>\n",
       "      <th>4</th>\n",
       "      <td>2000-01-06</td>\n",
       "      <td>56.093750</td>\n",
       "      <td>56.937500</td>\n",
       "      <td>54.187500</td>\n",
       "      <td>55.000000</td>\n",
       "      <td>34.852810</td>\n",
       "      <td>54976600</td>\n",
       "    </tr>\n",
       "    <tr>\n",
       "      <th>...</th>\n",
       "      <td>...</td>\n",
       "      <td>...</td>\n",
       "      <td>...</td>\n",
       "      <td>...</td>\n",
       "      <td>...</td>\n",
       "      <td>...</td>\n",
       "      <td>...</td>\n",
       "    </tr>\n",
       "    <tr>\n",
       "      <th>5404</th>\n",
       "      <td>2021-06-24</td>\n",
       "      <td>266.160004</td>\n",
       "      <td>267.850006</td>\n",
       "      <td>265.470001</td>\n",
       "      <td>266.690002</td>\n",
       "      <td>266.690002</td>\n",
       "      <td>21446900</td>\n",
       "    </tr>\n",
       "    <tr>\n",
       "      <th>5405</th>\n",
       "      <td>2021-06-25</td>\n",
       "      <td>266.230011</td>\n",
       "      <td>267.250000</td>\n",
       "      <td>264.760010</td>\n",
       "      <td>265.019989</td>\n",
       "      <td>265.019989</td>\n",
       "      <td>25611100</td>\n",
       "    </tr>\n",
       "    <tr>\n",
       "      <th>5406</th>\n",
       "      <td>2021-06-28</td>\n",
       "      <td>266.190002</td>\n",
       "      <td>268.899994</td>\n",
       "      <td>265.910004</td>\n",
       "      <td>268.720001</td>\n",
       "      <td>268.720001</td>\n",
       "      <td>19590000</td>\n",
       "    </tr>\n",
       "    <tr>\n",
       "      <th>5407</th>\n",
       "      <td>2021-06-29</td>\n",
       "      <td>268.869995</td>\n",
       "      <td>271.649994</td>\n",
       "      <td>267.980011</td>\n",
       "      <td>271.399994</td>\n",
       "      <td>271.399994</td>\n",
       "      <td>19937800</td>\n",
       "    </tr>\n",
       "    <tr>\n",
       "      <th>5408</th>\n",
       "      <td>2021-06-30</td>\n",
       "      <td>270.690002</td>\n",
       "      <td>271.359985</td>\n",
       "      <td>269.600006</td>\n",
       "      <td>270.899994</td>\n",
       "      <td>270.899994</td>\n",
       "      <td>21656500</td>\n",
       "    </tr>\n",
       "  </tbody>\n",
       "</table>\n",
       "<p>5409 rows × 7 columns</p>\n",
       "</div>"
      ],
      "text/plain": [
       "            Date        open        high         low       close   adj_close  \\\n",
       "0     1999-12-31   58.750000   58.875000   58.125000   58.375000   36.991508   \n",
       "1     2000-01-03   58.687500   59.312500   56.000000   58.281250   36.932102   \n",
       "2     2000-01-04   56.781250   58.562500   56.125000   56.312500   35.684532   \n",
       "3     2000-01-05   55.562500   58.187500   54.687500   56.906250   36.060772   \n",
       "4     2000-01-06   56.093750   56.937500   54.187500   55.000000   34.852810   \n",
       "...          ...         ...         ...         ...         ...         ...   \n",
       "5404  2021-06-24  266.160004  267.850006  265.470001  266.690002  266.690002   \n",
       "5405  2021-06-25  266.230011  267.250000  264.760010  265.019989  265.019989   \n",
       "5406  2021-06-28  266.190002  268.899994  265.910004  268.720001  268.720001   \n",
       "5407  2021-06-29  268.869995  271.649994  267.980011  271.399994  271.399994   \n",
       "5408  2021-06-30  270.690002  271.359985  269.600006  270.899994  270.899994   \n",
       "\n",
       "        volume  \n",
       "0     12517600  \n",
       "1     53228400  \n",
       "2     54119000  \n",
       "3     64059600  \n",
       "4     54976600  \n",
       "...        ...  \n",
       "5404  21446900  \n",
       "5405  25611100  \n",
       "5406  19590000  \n",
       "5407  19937800  \n",
       "5408  21656500  \n",
       "\n",
       "[5409 rows x 7 columns]"
      ]
     },
     "execution_count": 2,
     "metadata": {},
     "output_type": "execute_result"
    }
   ],
   "source": [
    "# data = yf.download(\"MSFT\", start=\"2000-01-01\", end=\"2021-07-01\")\n",
    "# data.rename(lambda x: x.strip('*').replace(' ', '_').lower(), axis='columns', inplace=True)\n",
    "# data.to_csv('DATA_MSFT.csv')\n",
    "data = pd.read_csv(\"DATA_MSFT.csv\")\n",
    "data"
   ]
  },
  {
   "cell_type": "code",
   "execution_count": 3,
   "metadata": {},
   "outputs": [
    {
     "name": "stdout",
     "output_type": "stream",
     "text": [
      "<class 'pandas.core.frame.DataFrame'>\n",
      "RangeIndex: 5409 entries, 0 to 5408\n",
      "Data columns (total 7 columns):\n",
      " #   Column     Non-Null Count  Dtype  \n",
      "---  ------     --------------  -----  \n",
      " 0   Date       5409 non-null   object \n",
      " 1   open       5409 non-null   float64\n",
      " 2   high       5409 non-null   float64\n",
      " 3   low        5409 non-null   float64\n",
      " 4   close      5409 non-null   float64\n",
      " 5   adj_close  5409 non-null   float64\n",
      " 6   volume     5409 non-null   int64  \n",
      "dtypes: float64(5), int64(1), object(1)\n",
      "memory usage: 295.9+ KB\n"
     ]
    }
   ],
   "source": [
    "data.info()"
   ]
  },
  {
   "cell_type": "markdown",
   "metadata": {
    "id": "2n2kZprnQANd"
   },
   "source": [
    "# INDICATORS\n",
    "\n"
   ]
  },
  {
   "cell_type": "markdown",
   "metadata": {
    "id": "YiDqtpuRRBzF"
   },
   "source": [
    "\n",
    "1.   **Close Price**"
   ]
  },
  {
   "cell_type": "code",
   "execution_count": null,
   "metadata": {
    "id": "rg4tdKvERaO1"
   },
   "outputs": [],
   "source": []
  },
  {
   "cell_type": "markdown",
   "metadata": {
    "id": "I2Ci5kzyRN2i"
   },
   "source": [
    "\n",
    "2.   **Price Rate of Change (ROC)**"
   ]
  },
  {
   "cell_type": "code",
   "execution_count": 4,
   "metadata": {
    "id": "3_qD941oRasg"
   },
   "outputs": [],
   "source": [
    "def ROC(df, n=12):  \n",
    "    M = df.diff(n - 1)  \n",
    "    N = df.shift(n - 1)  \n",
    "    ROC = pd.Series(((M / N) * 100), name = 'ROC_' + str(n))   \n",
    "    return ROC"
   ]
  },
  {
   "cell_type": "code",
   "execution_count": 5,
   "metadata": {},
   "outputs": [
    {
     "data": {
      "text/html": [
       "<div>\n",
       "<style scoped>\n",
       "    .dataframe tbody tr th:only-of-type {\n",
       "        vertical-align: middle;\n",
       "    }\n",
       "\n",
       "    .dataframe tbody tr th {\n",
       "        vertical-align: top;\n",
       "    }\n",
       "\n",
       "    .dataframe thead th {\n",
       "        text-align: right;\n",
       "    }\n",
       "</style>\n",
       "<table border=\"1\" class=\"dataframe\">\n",
       "  <thead>\n",
       "    <tr style=\"text-align: right;\">\n",
       "      <th></th>\n",
       "      <th>Date</th>\n",
       "      <th>open</th>\n",
       "      <th>high</th>\n",
       "      <th>low</th>\n",
       "      <th>close</th>\n",
       "      <th>adj_close</th>\n",
       "      <th>volume</th>\n",
       "      <th>ROC</th>\n",
       "    </tr>\n",
       "  </thead>\n",
       "  <tbody>\n",
       "    <tr>\n",
       "      <th>0</th>\n",
       "      <td>1999-12-31</td>\n",
       "      <td>58.750000</td>\n",
       "      <td>58.875000</td>\n",
       "      <td>58.125000</td>\n",
       "      <td>58.375000</td>\n",
       "      <td>36.991508</td>\n",
       "      <td>12517600</td>\n",
       "      <td>NaN</td>\n",
       "    </tr>\n",
       "    <tr>\n",
       "      <th>1</th>\n",
       "      <td>2000-01-03</td>\n",
       "      <td>58.687500</td>\n",
       "      <td>59.312500</td>\n",
       "      <td>56.000000</td>\n",
       "      <td>58.281250</td>\n",
       "      <td>36.932102</td>\n",
       "      <td>53228400</td>\n",
       "      <td>NaN</td>\n",
       "    </tr>\n",
       "    <tr>\n",
       "      <th>2</th>\n",
       "      <td>2000-01-04</td>\n",
       "      <td>56.781250</td>\n",
       "      <td>58.562500</td>\n",
       "      <td>56.125000</td>\n",
       "      <td>56.312500</td>\n",
       "      <td>35.684532</td>\n",
       "      <td>54119000</td>\n",
       "      <td>NaN</td>\n",
       "    </tr>\n",
       "    <tr>\n",
       "      <th>3</th>\n",
       "      <td>2000-01-05</td>\n",
       "      <td>55.562500</td>\n",
       "      <td>58.187500</td>\n",
       "      <td>54.687500</td>\n",
       "      <td>56.906250</td>\n",
       "      <td>36.060772</td>\n",
       "      <td>64059600</td>\n",
       "      <td>NaN</td>\n",
       "    </tr>\n",
       "    <tr>\n",
       "      <th>4</th>\n",
       "      <td>2000-01-06</td>\n",
       "      <td>56.093750</td>\n",
       "      <td>56.937500</td>\n",
       "      <td>54.187500</td>\n",
       "      <td>55.000000</td>\n",
       "      <td>34.852810</td>\n",
       "      <td>54976600</td>\n",
       "      <td>NaN</td>\n",
       "    </tr>\n",
       "    <tr>\n",
       "      <th>...</th>\n",
       "      <td>...</td>\n",
       "      <td>...</td>\n",
       "      <td>...</td>\n",
       "      <td>...</td>\n",
       "      <td>...</td>\n",
       "      <td>...</td>\n",
       "      <td>...</td>\n",
       "      <td>...</td>\n",
       "    </tr>\n",
       "    <tr>\n",
       "      <th>5404</th>\n",
       "      <td>2021-06-24</td>\n",
       "      <td>266.160004</td>\n",
       "      <td>267.850006</td>\n",
       "      <td>265.470001</td>\n",
       "      <td>266.690002</td>\n",
       "      <td>266.690002</td>\n",
       "      <td>21446900</td>\n",
       "      <td>5.165821</td>\n",
       "    </tr>\n",
       "    <tr>\n",
       "      <th>5405</th>\n",
       "      <td>2021-06-25</td>\n",
       "      <td>266.230011</td>\n",
       "      <td>267.250000</td>\n",
       "      <td>264.760010</td>\n",
       "      <td>265.019989</td>\n",
       "      <td>265.019989</td>\n",
       "      <td>25611100</td>\n",
       "      <td>3.024413</td>\n",
       "    </tr>\n",
       "    <tr>\n",
       "      <th>5406</th>\n",
       "      <td>2021-06-28</td>\n",
       "      <td>266.190002</td>\n",
       "      <td>268.899994</td>\n",
       "      <td>265.910004</td>\n",
       "      <td>268.720001</td>\n",
       "      <td>268.720001</td>\n",
       "      <td>19590000</td>\n",
       "      <td>4.199459</td>\n",
       "    </tr>\n",
       "    <tr>\n",
       "      <th>5407</th>\n",
       "      <td>2021-06-29</td>\n",
       "      <td>268.869995</td>\n",
       "      <td>271.649994</td>\n",
       "      <td>267.980011</td>\n",
       "      <td>271.399994</td>\n",
       "      <td>271.399994</td>\n",
       "      <td>19937800</td>\n",
       "      <td>4.428789</td>\n",
       "    </tr>\n",
       "    <tr>\n",
       "      <th>5408</th>\n",
       "      <td>2021-06-30</td>\n",
       "      <td>270.690002</td>\n",
       "      <td>271.359985</td>\n",
       "      <td>269.600006</td>\n",
       "      <td>270.899994</td>\n",
       "      <td>270.899994</td>\n",
       "      <td>21656500</td>\n",
       "      <td>4.853696</td>\n",
       "    </tr>\n",
       "  </tbody>\n",
       "</table>\n",
       "<p>5409 rows × 8 columns</p>\n",
       "</div>"
      ],
      "text/plain": [
       "            Date        open        high         low       close   adj_close  \\\n",
       "0     1999-12-31   58.750000   58.875000   58.125000   58.375000   36.991508   \n",
       "1     2000-01-03   58.687500   59.312500   56.000000   58.281250   36.932102   \n",
       "2     2000-01-04   56.781250   58.562500   56.125000   56.312500   35.684532   \n",
       "3     2000-01-05   55.562500   58.187500   54.687500   56.906250   36.060772   \n",
       "4     2000-01-06   56.093750   56.937500   54.187500   55.000000   34.852810   \n",
       "...          ...         ...         ...         ...         ...         ...   \n",
       "5404  2021-06-24  266.160004  267.850006  265.470001  266.690002  266.690002   \n",
       "5405  2021-06-25  266.230011  267.250000  264.760010  265.019989  265.019989   \n",
       "5406  2021-06-28  266.190002  268.899994  265.910004  268.720001  268.720001   \n",
       "5407  2021-06-29  268.869995  271.649994  267.980011  271.399994  271.399994   \n",
       "5408  2021-06-30  270.690002  271.359985  269.600006  270.899994  270.899994   \n",
       "\n",
       "        volume       ROC  \n",
       "0     12517600       NaN  \n",
       "1     53228400       NaN  \n",
       "2     54119000       NaN  \n",
       "3     64059600       NaN  \n",
       "4     54976600       NaN  \n",
       "...        ...       ...  \n",
       "5404  21446900  5.165821  \n",
       "5405  25611100  3.024413  \n",
       "5406  19590000  4.199459  \n",
       "5407  19937800  4.428789  \n",
       "5408  21656500  4.853696  \n",
       "\n",
       "[5409 rows x 8 columns]"
      ]
     },
     "execution_count": 5,
     "metadata": {},
     "output_type": "execute_result"
    }
   ],
   "source": [
    "data['ROC'] = ROC(data['close'], 12)\n",
    "data"
   ]
  },
  {
   "cell_type": "markdown",
   "metadata": {
    "id": "OjAP-eRdQOHD"
   },
   "source": [
    "\n",
    "3.   **Relative Strength Index (RSI)**\n"
   ]
  },
  {
   "cell_type": "code",
   "execution_count": 6,
   "metadata": {
    "id": "ddAIztpNRbLm"
   },
   "outputs": [],
   "source": [
    "def RSI(df, n=14):\n",
    "    close = df['close']\n",
    "    delta = close.diff()\n",
    "    delta = delta[1:]\n",
    "    pricesUp = delta.copy()\n",
    "    pricesDown = delta.copy()\n",
    "    pricesUp[pricesUp < 0] = 0\n",
    "    pricesDown[pricesDown > 0] = 0\n",
    "    rollUp = pricesUp.rolling(n).mean()\n",
    "    rollDown = pricesDown.abs().rolling(n).mean()\n",
    "    rs = rollUp / rollDown\n",
    "    rsi = 100.0 - (100.0 / (1.0 + rs))\n",
    "    return rsi"
   ]
  },
  {
   "cell_type": "code",
   "execution_count": 7,
   "metadata": {
    "id": "LP37zLdMaFcC"
   },
   "outputs": [
    {
     "data": {
      "text/html": [
       "<div>\n",
       "<style scoped>\n",
       "    .dataframe tbody tr th:only-of-type {\n",
       "        vertical-align: middle;\n",
       "    }\n",
       "\n",
       "    .dataframe tbody tr th {\n",
       "        vertical-align: top;\n",
       "    }\n",
       "\n",
       "    .dataframe thead th {\n",
       "        text-align: right;\n",
       "    }\n",
       "</style>\n",
       "<table border=\"1\" class=\"dataframe\">\n",
       "  <thead>\n",
       "    <tr style=\"text-align: right;\">\n",
       "      <th></th>\n",
       "      <th>Date</th>\n",
       "      <th>open</th>\n",
       "      <th>high</th>\n",
       "      <th>low</th>\n",
       "      <th>close</th>\n",
       "      <th>adj_close</th>\n",
       "      <th>volume</th>\n",
       "      <th>ROC</th>\n",
       "      <th>RSI</th>\n",
       "    </tr>\n",
       "  </thead>\n",
       "  <tbody>\n",
       "    <tr>\n",
       "      <th>0</th>\n",
       "      <td>1999-12-31</td>\n",
       "      <td>58.750000</td>\n",
       "      <td>58.875000</td>\n",
       "      <td>58.125000</td>\n",
       "      <td>58.375000</td>\n",
       "      <td>36.991508</td>\n",
       "      <td>12517600</td>\n",
       "      <td>NaN</td>\n",
       "      <td>NaN</td>\n",
       "    </tr>\n",
       "    <tr>\n",
       "      <th>1</th>\n",
       "      <td>2000-01-03</td>\n",
       "      <td>58.687500</td>\n",
       "      <td>59.312500</td>\n",
       "      <td>56.000000</td>\n",
       "      <td>58.281250</td>\n",
       "      <td>36.932102</td>\n",
       "      <td>53228400</td>\n",
       "      <td>NaN</td>\n",
       "      <td>NaN</td>\n",
       "    </tr>\n",
       "    <tr>\n",
       "      <th>2</th>\n",
       "      <td>2000-01-04</td>\n",
       "      <td>56.781250</td>\n",
       "      <td>58.562500</td>\n",
       "      <td>56.125000</td>\n",
       "      <td>56.312500</td>\n",
       "      <td>35.684532</td>\n",
       "      <td>54119000</td>\n",
       "      <td>NaN</td>\n",
       "      <td>NaN</td>\n",
       "    </tr>\n",
       "    <tr>\n",
       "      <th>3</th>\n",
       "      <td>2000-01-05</td>\n",
       "      <td>55.562500</td>\n",
       "      <td>58.187500</td>\n",
       "      <td>54.687500</td>\n",
       "      <td>56.906250</td>\n",
       "      <td>36.060772</td>\n",
       "      <td>64059600</td>\n",
       "      <td>NaN</td>\n",
       "      <td>NaN</td>\n",
       "    </tr>\n",
       "    <tr>\n",
       "      <th>4</th>\n",
       "      <td>2000-01-06</td>\n",
       "      <td>56.093750</td>\n",
       "      <td>56.937500</td>\n",
       "      <td>54.187500</td>\n",
       "      <td>55.000000</td>\n",
       "      <td>34.852810</td>\n",
       "      <td>54976600</td>\n",
       "      <td>NaN</td>\n",
       "      <td>NaN</td>\n",
       "    </tr>\n",
       "    <tr>\n",
       "      <th>...</th>\n",
       "      <td>...</td>\n",
       "      <td>...</td>\n",
       "      <td>...</td>\n",
       "      <td>...</td>\n",
       "      <td>...</td>\n",
       "      <td>...</td>\n",
       "      <td>...</td>\n",
       "      <td>...</td>\n",
       "      <td>...</td>\n",
       "    </tr>\n",
       "    <tr>\n",
       "      <th>5404</th>\n",
       "      <td>2021-06-24</td>\n",
       "      <td>266.160004</td>\n",
       "      <td>267.850006</td>\n",
       "      <td>265.470001</td>\n",
       "      <td>266.690002</td>\n",
       "      <td>266.690002</td>\n",
       "      <td>21446900</td>\n",
       "      <td>5.165821</td>\n",
       "      <td>79.642017</td>\n",
       "    </tr>\n",
       "    <tr>\n",
       "      <th>5405</th>\n",
       "      <td>2021-06-25</td>\n",
       "      <td>266.230011</td>\n",
       "      <td>267.250000</td>\n",
       "      <td>264.760010</td>\n",
       "      <td>265.019989</td>\n",
       "      <td>265.019989</td>\n",
       "      <td>25611100</td>\n",
       "      <td>3.024413</td>\n",
       "      <td>72.006211</td>\n",
       "    </tr>\n",
       "    <tr>\n",
       "      <th>5406</th>\n",
       "      <td>2021-06-28</td>\n",
       "      <td>266.190002</td>\n",
       "      <td>268.899994</td>\n",
       "      <td>265.910004</td>\n",
       "      <td>268.720001</td>\n",
       "      <td>268.720001</td>\n",
       "      <td>19590000</td>\n",
       "      <td>4.199459</td>\n",
       "      <td>78.911467</td>\n",
       "    </tr>\n",
       "    <tr>\n",
       "      <th>5407</th>\n",
       "      <td>2021-06-29</td>\n",
       "      <td>268.869995</td>\n",
       "      <td>271.649994</td>\n",
       "      <td>267.980011</td>\n",
       "      <td>271.399994</td>\n",
       "      <td>271.399994</td>\n",
       "      <td>19937800</td>\n",
       "      <td>4.428789</td>\n",
       "      <td>80.094533</td>\n",
       "    </tr>\n",
       "    <tr>\n",
       "      <th>5408</th>\n",
       "      <td>2021-06-30</td>\n",
       "      <td>270.690002</td>\n",
       "      <td>271.359985</td>\n",
       "      <td>269.600006</td>\n",
       "      <td>270.899994</td>\n",
       "      <td>270.899994</td>\n",
       "      <td>21656500</td>\n",
       "      <td>4.853696</td>\n",
       "      <td>75.831988</td>\n",
       "    </tr>\n",
       "  </tbody>\n",
       "</table>\n",
       "<p>5409 rows × 9 columns</p>\n",
       "</div>"
      ],
      "text/plain": [
       "            Date        open        high         low       close   adj_close  \\\n",
       "0     1999-12-31   58.750000   58.875000   58.125000   58.375000   36.991508   \n",
       "1     2000-01-03   58.687500   59.312500   56.000000   58.281250   36.932102   \n",
       "2     2000-01-04   56.781250   58.562500   56.125000   56.312500   35.684532   \n",
       "3     2000-01-05   55.562500   58.187500   54.687500   56.906250   36.060772   \n",
       "4     2000-01-06   56.093750   56.937500   54.187500   55.000000   34.852810   \n",
       "...          ...         ...         ...         ...         ...         ...   \n",
       "5404  2021-06-24  266.160004  267.850006  265.470001  266.690002  266.690002   \n",
       "5405  2021-06-25  266.230011  267.250000  264.760010  265.019989  265.019989   \n",
       "5406  2021-06-28  266.190002  268.899994  265.910004  268.720001  268.720001   \n",
       "5407  2021-06-29  268.869995  271.649994  267.980011  271.399994  271.399994   \n",
       "5408  2021-06-30  270.690002  271.359985  269.600006  270.899994  270.899994   \n",
       "\n",
       "        volume       ROC        RSI  \n",
       "0     12517600       NaN        NaN  \n",
       "1     53228400       NaN        NaN  \n",
       "2     54119000       NaN        NaN  \n",
       "3     64059600       NaN        NaN  \n",
       "4     54976600       NaN        NaN  \n",
       "...        ...       ...        ...  \n",
       "5404  21446900  5.165821  79.642017  \n",
       "5405  25611100  3.024413  72.006211  \n",
       "5406  19590000  4.199459  78.911467  \n",
       "5407  19937800  4.428789  80.094533  \n",
       "5408  21656500  4.853696  75.831988  \n",
       "\n",
       "[5409 rows x 9 columns]"
      ]
     },
     "execution_count": 7,
     "metadata": {},
     "output_type": "execute_result"
    }
   ],
   "source": [
    "data['RSI'] = RSI(data)\n",
    "data"
   ]
  },
  {
   "cell_type": "markdown",
   "metadata": {
    "id": "FQnP_ZlLQSqI"
   },
   "source": [
    "\n",
    "4.   **Moving Averages**"
   ]
  },
  {
   "cell_type": "code",
   "execution_count": 8,
   "metadata": {
    "id": "A7exDCYRRbm0"
   },
   "outputs": [
    {
     "data": {
      "text/html": [
       "<div>\n",
       "<style scoped>\n",
       "    .dataframe tbody tr th:only-of-type {\n",
       "        vertical-align: middle;\n",
       "    }\n",
       "\n",
       "    .dataframe tbody tr th {\n",
       "        vertical-align: top;\n",
       "    }\n",
       "\n",
       "    .dataframe thead th {\n",
       "        text-align: right;\n",
       "    }\n",
       "</style>\n",
       "<table border=\"1\" class=\"dataframe\">\n",
       "  <thead>\n",
       "    <tr style=\"text-align: right;\">\n",
       "      <th></th>\n",
       "      <th>Date</th>\n",
       "      <th>open</th>\n",
       "      <th>high</th>\n",
       "      <th>low</th>\n",
       "      <th>close</th>\n",
       "      <th>adj_close</th>\n",
       "      <th>volume</th>\n",
       "      <th>ROC</th>\n",
       "      <th>RSI</th>\n",
       "      <th>SMA_30</th>\n",
       "    </tr>\n",
       "  </thead>\n",
       "  <tbody>\n",
       "    <tr>\n",
       "      <th>0</th>\n",
       "      <td>1999-12-31</td>\n",
       "      <td>58.750000</td>\n",
       "      <td>58.875000</td>\n",
       "      <td>58.125000</td>\n",
       "      <td>58.375000</td>\n",
       "      <td>36.991508</td>\n",
       "      <td>12517600</td>\n",
       "      <td>NaN</td>\n",
       "      <td>NaN</td>\n",
       "      <td>NaN</td>\n",
       "    </tr>\n",
       "    <tr>\n",
       "      <th>1</th>\n",
       "      <td>2000-01-03</td>\n",
       "      <td>58.687500</td>\n",
       "      <td>59.312500</td>\n",
       "      <td>56.000000</td>\n",
       "      <td>58.281250</td>\n",
       "      <td>36.932102</td>\n",
       "      <td>53228400</td>\n",
       "      <td>NaN</td>\n",
       "      <td>NaN</td>\n",
       "      <td>NaN</td>\n",
       "    </tr>\n",
       "    <tr>\n",
       "      <th>2</th>\n",
       "      <td>2000-01-04</td>\n",
       "      <td>56.781250</td>\n",
       "      <td>58.562500</td>\n",
       "      <td>56.125000</td>\n",
       "      <td>56.312500</td>\n",
       "      <td>35.684532</td>\n",
       "      <td>54119000</td>\n",
       "      <td>NaN</td>\n",
       "      <td>NaN</td>\n",
       "      <td>NaN</td>\n",
       "    </tr>\n",
       "    <tr>\n",
       "      <th>3</th>\n",
       "      <td>2000-01-05</td>\n",
       "      <td>55.562500</td>\n",
       "      <td>58.187500</td>\n",
       "      <td>54.687500</td>\n",
       "      <td>56.906250</td>\n",
       "      <td>36.060772</td>\n",
       "      <td>64059600</td>\n",
       "      <td>NaN</td>\n",
       "      <td>NaN</td>\n",
       "      <td>NaN</td>\n",
       "    </tr>\n",
       "    <tr>\n",
       "      <th>4</th>\n",
       "      <td>2000-01-06</td>\n",
       "      <td>56.093750</td>\n",
       "      <td>56.937500</td>\n",
       "      <td>54.187500</td>\n",
       "      <td>55.000000</td>\n",
       "      <td>34.852810</td>\n",
       "      <td>54976600</td>\n",
       "      <td>NaN</td>\n",
       "      <td>NaN</td>\n",
       "      <td>NaN</td>\n",
       "    </tr>\n",
       "    <tr>\n",
       "      <th>...</th>\n",
       "      <td>...</td>\n",
       "      <td>...</td>\n",
       "      <td>...</td>\n",
       "      <td>...</td>\n",
       "      <td>...</td>\n",
       "      <td>...</td>\n",
       "      <td>...</td>\n",
       "      <td>...</td>\n",
       "      <td>...</td>\n",
       "      <td>...</td>\n",
       "    </tr>\n",
       "    <tr>\n",
       "      <th>5404</th>\n",
       "      <td>2021-06-24</td>\n",
       "      <td>266.160004</td>\n",
       "      <td>267.850006</td>\n",
       "      <td>265.470001</td>\n",
       "      <td>266.690002</td>\n",
       "      <td>266.690002</td>\n",
       "      <td>21446900</td>\n",
       "      <td>5.165821</td>\n",
       "      <td>79.642017</td>\n",
       "      <td>252.061999</td>\n",
       "    </tr>\n",
       "    <tr>\n",
       "      <th>5405</th>\n",
       "      <td>2021-06-25</td>\n",
       "      <td>266.230011</td>\n",
       "      <td>267.250000</td>\n",
       "      <td>264.760010</td>\n",
       "      <td>265.019989</td>\n",
       "      <td>265.019989</td>\n",
       "      <td>25611100</td>\n",
       "      <td>3.024413</td>\n",
       "      <td>72.006211</td>\n",
       "      <td>252.984999</td>\n",
       "    </tr>\n",
       "    <tr>\n",
       "      <th>5406</th>\n",
       "      <td>2021-06-28</td>\n",
       "      <td>266.190002</td>\n",
       "      <td>268.899994</td>\n",
       "      <td>265.910004</td>\n",
       "      <td>268.720001</td>\n",
       "      <td>268.720001</td>\n",
       "      <td>19590000</td>\n",
       "      <td>4.199459</td>\n",
       "      <td>78.911467</td>\n",
       "      <td>253.717999</td>\n",
       "    </tr>\n",
       "    <tr>\n",
       "      <th>5407</th>\n",
       "      <td>2021-06-29</td>\n",
       "      <td>268.869995</td>\n",
       "      <td>271.649994</td>\n",
       "      <td>267.980011</td>\n",
       "      <td>271.399994</td>\n",
       "      <td>271.399994</td>\n",
       "      <td>19937800</td>\n",
       "      <td>4.428789</td>\n",
       "      <td>80.094533</td>\n",
       "      <td>254.403666</td>\n",
       "    </tr>\n",
       "    <tr>\n",
       "      <th>5408</th>\n",
       "      <td>2021-06-30</td>\n",
       "      <td>270.690002</td>\n",
       "      <td>271.359985</td>\n",
       "      <td>269.600006</td>\n",
       "      <td>270.899994</td>\n",
       "      <td>270.899994</td>\n",
       "      <td>21656500</td>\n",
       "      <td>4.853696</td>\n",
       "      <td>75.831988</td>\n",
       "      <td>255.277666</td>\n",
       "    </tr>\n",
       "  </tbody>\n",
       "</table>\n",
       "<p>5409 rows × 10 columns</p>\n",
       "</div>"
      ],
      "text/plain": [
       "            Date        open        high         low       close   adj_close  \\\n",
       "0     1999-12-31   58.750000   58.875000   58.125000   58.375000   36.991508   \n",
       "1     2000-01-03   58.687500   59.312500   56.000000   58.281250   36.932102   \n",
       "2     2000-01-04   56.781250   58.562500   56.125000   56.312500   35.684532   \n",
       "3     2000-01-05   55.562500   58.187500   54.687500   56.906250   36.060772   \n",
       "4     2000-01-06   56.093750   56.937500   54.187500   55.000000   34.852810   \n",
       "...          ...         ...         ...         ...         ...         ...   \n",
       "5404  2021-06-24  266.160004  267.850006  265.470001  266.690002  266.690002   \n",
       "5405  2021-06-25  266.230011  267.250000  264.760010  265.019989  265.019989   \n",
       "5406  2021-06-28  266.190002  268.899994  265.910004  268.720001  268.720001   \n",
       "5407  2021-06-29  268.869995  271.649994  267.980011  271.399994  271.399994   \n",
       "5408  2021-06-30  270.690002  271.359985  269.600006  270.899994  270.899994   \n",
       "\n",
       "        volume       ROC        RSI      SMA_30  \n",
       "0     12517600       NaN        NaN         NaN  \n",
       "1     53228400       NaN        NaN         NaN  \n",
       "2     54119000       NaN        NaN         NaN  \n",
       "3     64059600       NaN        NaN         NaN  \n",
       "4     54976600       NaN        NaN         NaN  \n",
       "...        ...       ...        ...         ...  \n",
       "5404  21446900  5.165821  79.642017  252.061999  \n",
       "5405  25611100  3.024413  72.006211  252.984999  \n",
       "5406  19590000  4.199459  78.911467  253.717999  \n",
       "5407  19937800  4.428789  80.094533  254.403666  \n",
       "5408  21656500  4.853696  75.831988  255.277666  \n",
       "\n",
       "[5409 rows x 10 columns]"
      ]
     },
     "execution_count": 8,
     "metadata": {},
     "output_type": "execute_result"
    }
   ],
   "source": [
    "data['SMA_30'] = data['close'].rolling(30).mean().shift()\n",
    "data"
   ]
  },
  {
   "cell_type": "markdown",
   "metadata": {
    "id": "7cn1Du7LQhjB"
   },
   "source": [
    "\n",
    "5.   **Bolling Bands**"
   ]
  },
  {
   "cell_type": "code",
   "execution_count": null,
   "metadata": {
    "id": "-x_MzZ5HRcIA"
   },
   "outputs": [],
   "source": []
  },
  {
   "cell_type": "markdown",
   "metadata": {
    "id": "L5cC0U4-Rfnm"
   },
   "source": [
    "# XGBOOST "
   ]
  },
  {
   "cell_type": "markdown",
   "metadata": {
    "id": "lQqSkoDyncvT",
    "tags": []
   },
   "source": [
    "\n",
    "1.   **Prepare Input**"
   ]
  },
  {
   "cell_type": "code",
   "execution_count": 9,
   "metadata": {},
   "outputs": [
    {
     "data": {
      "text/html": [
       "<div>\n",
       "<style scoped>\n",
       "    .dataframe tbody tr th:only-of-type {\n",
       "        vertical-align: middle;\n",
       "    }\n",
       "\n",
       "    .dataframe tbody tr th {\n",
       "        vertical-align: top;\n",
       "    }\n",
       "\n",
       "    .dataframe thead th {\n",
       "        text-align: right;\n",
       "    }\n",
       "</style>\n",
       "<table border=\"1\" class=\"dataframe\">\n",
       "  <thead>\n",
       "    <tr style=\"text-align: right;\">\n",
       "      <th></th>\n",
       "      <th>close</th>\n",
       "      <th>target</th>\n",
       "    </tr>\n",
       "  </thead>\n",
       "  <tbody>\n",
       "    <tr>\n",
       "      <th>0</th>\n",
       "      <td>58.375000</td>\n",
       "      <td>58.281250</td>\n",
       "    </tr>\n",
       "    <tr>\n",
       "      <th>1</th>\n",
       "      <td>58.281250</td>\n",
       "      <td>56.312500</td>\n",
       "    </tr>\n",
       "    <tr>\n",
       "      <th>2</th>\n",
       "      <td>56.312500</td>\n",
       "      <td>56.906250</td>\n",
       "    </tr>\n",
       "    <tr>\n",
       "      <th>3</th>\n",
       "      <td>56.906250</td>\n",
       "      <td>55.000000</td>\n",
       "    </tr>\n",
       "    <tr>\n",
       "      <th>4</th>\n",
       "      <td>55.000000</td>\n",
       "      <td>55.718750</td>\n",
       "    </tr>\n",
       "    <tr>\n",
       "      <th>...</th>\n",
       "      <td>...</td>\n",
       "      <td>...</td>\n",
       "    </tr>\n",
       "    <tr>\n",
       "      <th>495</th>\n",
       "      <td>33.770000</td>\n",
       "      <td>33.634998</td>\n",
       "    </tr>\n",
       "    <tr>\n",
       "      <th>496</th>\n",
       "      <td>33.634998</td>\n",
       "      <td>33.840000</td>\n",
       "    </tr>\n",
       "    <tr>\n",
       "      <th>497</th>\n",
       "      <td>33.840000</td>\n",
       "      <td>33.924999</td>\n",
       "    </tr>\n",
       "    <tr>\n",
       "      <th>498</th>\n",
       "      <td>33.924999</td>\n",
       "      <td>33.935001</td>\n",
       "    </tr>\n",
       "    <tr>\n",
       "      <th>499</th>\n",
       "      <td>33.935001</td>\n",
       "      <td>33.125000</td>\n",
       "    </tr>\n",
       "  </tbody>\n",
       "</table>\n",
       "<p>500 rows × 2 columns</p>\n",
       "</div>"
      ],
      "text/plain": [
       "         close     target\n",
       "0    58.375000  58.281250\n",
       "1    58.281250  56.312500\n",
       "2    56.312500  56.906250\n",
       "3    56.906250  55.000000\n",
       "4    55.000000  55.718750\n",
       "..         ...        ...\n",
       "495  33.770000  33.634998\n",
       "496  33.634998  33.840000\n",
       "497  33.840000  33.924999\n",
       "498  33.924999  33.935001\n",
       "499  33.935001  33.125000\n",
       "\n",
       "[500 rows x 2 columns]"
      ]
     },
     "execution_count": 9,
     "metadata": {},
     "output_type": "execute_result"
    }
   ],
   "source": [
    "df = data[[\"close\"]].copy()\n",
    "df[\"target\"] = df.close.shift(-1)\n",
    "df.dropna(inplace=True)\n",
    "df = df.head(500)\n",
    "df"
   ]
  },
  {
   "cell_type": "code",
   "execution_count": 10,
   "metadata": {},
   "outputs": [],
   "source": [
    "def train_test_split(dataXg, perc):\n",
    "    dataXg = dataXg.values\n",
    "    n = int(len(dataXg) * (1 - perc))\n",
    "    return dataXg[:n], dataXg[n:]\n",
    "\n",
    "train, test = train_test_split(df, 0.2)\n",
    "X = train[:, :-1]\n",
    "y = train[:, -1]"
   ]
  },
  {
   "cell_type": "markdown",
   "metadata": {
    "id": "95VjlotrnnHZ"
   },
   "source": [
    "\n",
    "2.   **Train Model**"
   ]
  },
  {
   "cell_type": "code",
   "execution_count": 11,
   "metadata": {},
   "outputs": [],
   "source": [
    "from xgboost import XGBRegressor\n",
    "\n",
    "model = XGBRegressor(objective=\"reg:squarederror\", n_estimators=1000)\n",
    "model.fit(X, y)\n",
    "model.save_model('MODEL_XGBOOST.h5')"
   ]
  },
  {
   "cell_type": "markdown",
   "metadata": {
    "id": "fa3meAt2okR3"
   },
   "source": [
    "\n",
    "3.   **Test Model**"
   ]
  },
  {
   "cell_type": "code",
   "execution_count": 12,
   "metadata": {},
   "outputs": [],
   "source": [
    "def xgb_predict(train, val):\n",
    "    train = np.array(train)\n",
    "    X, y = train[:, :-1], train[:, -1]\n",
    "    model = XGBRegressor(objective=\"reg:squarederror\", n_estimators=1000)\n",
    "    model.fit(X, y)\n",
    "\n",
    "    val = np.array(val).reshape(1, -1)\n",
    "    pred = model.predict(val)\n",
    "    return pred[0]"
   ]
  },
  {
   "cell_type": "code",
   "execution_count": 13,
   "metadata": {},
   "outputs": [
    {
     "data": {
      "text/plain": [
       "33.29593"
      ]
     },
     "execution_count": 13,
     "metadata": {},
     "output_type": "execute_result"
    }
   ],
   "source": [
    "xgb_predict(train, test[0, 0])"
   ]
  },
  {
   "cell_type": "code",
   "execution_count": 14,
   "metadata": {},
   "outputs": [],
   "source": [
    "from sklearn.metrics import mean_squared_error\n",
    "\n",
    "def validate(data, perc):\n",
    "    predictions = []\n",
    "\n",
    "    train, test = train_test_split(data, perc)\n",
    "\n",
    "    history = [x for x in train]\n",
    "\n",
    "    for i in range(len(test)):\n",
    "        test_X, test_y = test[i, :-1], test[i, -1]\n",
    "\n",
    "        pred = xgb_predict(history, test_X[0])\n",
    "        predictions.append(pred)\n",
    "\n",
    "        history.append(test[i])\n",
    "\n",
    "    error = mean_squared_error(test[:, -1], predictions, squared=False)\n",
    "\n",
    "    return error, test[:, -1], predictions"
   ]
  },
  {
   "cell_type": "code",
   "execution_count": 15,
   "metadata": {},
   "outputs": [
    {
     "name": "stderr",
     "output_type": "stream",
     "text": [
      "C:\\Users\\phuc\\anaconda3\\lib\\site-packages\\xgboost\\data.py:119: UserWarning: Use subset (sliced data) of np.ndarray is not recommended because it will generate extra copies and increase memory consumption\n",
      "  warnings.warn(\n"
     ]
    }
   ],
   "source": [
    "rmse, y, pred = validate(df, 0.2)"
   ]
  },
  {
   "cell_type": "code",
   "execution_count": 16,
   "metadata": {},
   "outputs": [
    {
     "data": {
      "image/png": "[encoded data removed]",
      "text/plain": [
       "<Figure size 432x288 with 1 Axes>"
      ]
     },
     "metadata": {
      "needs_background": "light"
     },
     "output_type": "display_data"
    }
   ],
   "source": [
    "from matplotlib import pyplot\n",
    "pyplot.plot(y, label='True price')\n",
    "pyplot.plot(pred, label='Predict price')\n",
    "pyplot.legend()\n",
    "pyplot.show()"
   ]
  },
  {
   "cell_type": "markdown",
   "metadata": {
    "id": "rpwDayUuRoOr"
   },
   "source": [
    "# RNN"
   ]
  },
  {
   "cell_type": "markdown",
   "metadata": {
    "tags": []
   },
   "source": [
    "1. Prepare inputs"
   ]
  },
  {
   "cell_type": "code",
   "execution_count": 17,
   "metadata": {},
   "outputs": [],
   "source": [
    "scaler = MinMaxScaler(feature_range=(0,1))\n",
    "\n",
    "# Input 1\n",
    "scaled_data = scaler.fit_transform(data['close'].values.reshape(-1,1))\n",
    "\n",
    "prediction_days = 60\n",
    "\n",
    "x_train = []\n",
    "y_train = []\n",
    "for i in range(prediction_days, len(scaled_data)):\n",
    "    x_train.append(scaled_data[i - prediction_days:i, 0])\n",
    "    y_train.append(scaled_data[i, 0])\n",
    "    \n",
    "x_train, y_train = np.array(x_train), np.array(y_train)\n",
    "x_train = np.reshape(x_train, (x_train.shape[0], x_train.shape[1], 1))\n",
    "\n",
    "# Input 2 (close and ROC)\n",
    "scaled_data_2 = scaler.fit_transform(data[['close', 'ROC']].values) # lấy 2 cột, khi lấy nhiều cột thì đặt toàn bộ tên các cột vào 1 list và cũng không cần reshape\n",
    "\n",
    "x_train_2 = []\n",
    "y_train_2 = []\n",
    "for i in range(prediction_days, len(scaled_data_2)):\n",
    "    x_train_2.append(scaled_data_2[i - prediction_days:i, :]) # dấu : thứ 2 nghĩa là lấy hết các cột\n",
    "    y_train_2.append(scaled_data_2[i, 0]) # số 0 nghĩa là chỉ xài cột đầu (cái 'Close') để làm y\n",
    "\n",
    "x_train_2, y_train_2 = np.array(x_train_2), np.array(y_train_2)"
   ]
  },
  {
   "cell_type": "markdown",
   "metadata": {},
   "source": [
    "1. Build the model"
   ]
  },
  {
   "cell_type": "code",
   "execution_count": 18,
   "metadata": {},
   "outputs": [],
   "source": [
    "from tensorflow.keras.layers import Dropout"
   ]
  },
  {
   "cell_type": "code",
   "execution_count": null,
   "metadata": {},
   "outputs": [
    {
     "name": "stdout",
     "output_type": "stream",
     "text": [
      "Epoch 1/25\n",
      "168/168 [==============================] - 21s 93ms/step - loss: 0.0023\n",
      "Epoch 2/25\n",
      "168/168 [==============================] - 16s 95ms/step - loss: 0.0011\n",
      "Epoch 3/25\n",
      "168/168 [==============================] - 16s 94ms/step - loss: 9.3437e-04\n",
      "Epoch 4/25\n",
      "168/168 [==============================] - 16s 95ms/step - loss: 8.2102e-04\n",
      "Epoch 5/25\n",
      "168/168 [==============================] - 16s 95ms/step - loss: 6.1837e-04\n",
      "Epoch 6/25\n",
      "168/168 [==============================] - 16s 96ms/step - loss: 7.5812e-04\n",
      "Epoch 7/25\n",
      "168/168 [==============================] - 16s 95ms/step - loss: 7.6382e-04\n",
      "Epoch 8/25\n",
      " 23/168 [===>..........................] - ETA: 13s - loss: 9.1348e-04"
     ]
    }
   ],
   "source": [
    "# Build model\n",
    "RNN_model = Sequential()\n",
    "\n",
    "RNN_model.add(LSTM(units=50, return_sequences=True, input_shape=(x_train.shape[1],1)))\n",
    "RNN_model.add(Dropout(0.2))\n",
    "RNN_model.add(LSTM(units=50, return_sequences=True))\n",
    "RNN_model.add(Dropout(0.2))\n",
    "RNN_model.add(LSTM(units=50, return_sequences=True))\n",
    "RNN_model.add(Dropout(0.2))\n",
    "RNN_model.add(LSTM(units=50))\n",
    "RNN_model.add(Dropout(0.2))\n",
    "RNN_model.add(Dense(units=1))\n",
    "\n",
    "RNN_model.compile(optimizer='adam', loss='mean_squared_error')\n",
    "RNN_model.fit(x_train, y_train, epochs=25, batch_size=32)\n",
    "\n",
    "RNN_model.save('RNN_Model.h5')"
   ]
  },
  {
   "cell_type": "code",
   "execution_count": null,
   "metadata": {},
   "outputs": [],
   "source": [
    "# Build model 2 (close and ROC)\n",
    "RNN_model_2 = Sequential()\n",
    "\n",
    "RNN_model_2.add(LSTM(units=50, return_sequences=True, input_shape=(x_train_2.shape[1],2))) # Lấy 2 columns\n",
    "RNN_model_2.add(Dropout(0.2))\n",
    "RNN_model_2.add(LSTM(units=50, return_sequences=True))\n",
    "RNN_model_2.add(Dropout(0.2))\n",
    "RNN_model_2.add(LSTM(units=50, return_sequences=True))\n",
    "RNN_model_2.add(Dropout(0.2))\n",
    "RNN_model_2.add(LSTM(units=50))\n",
    "RNN_model_2.add(Dropout(0.2))\n",
    "RNN_model_2.add(Dense(units=1))\n",
    "\n",
    "RNN_model_2.compile(optimizer='adam', loss='mean_squared_error')\n",
    "RNN_model_2.fit(x_train_2, y_train_2, epochs=25, batch_size=32)\n",
    "\n",
    "RNN_model_2.save('RNN_Model_2.h5')"
   ]
  },
  {
   "cell_type": "markdown",
   "metadata": {},
   "source": [
    "3. Load test data"
   ]
  },
  {
   "cell_type": "code",
   "execution_count": null,
   "metadata": {},
   "outputs": [],
   "source": [
    "import yfinance as yf"
   ]
  },
  {
   "cell_type": "code",
   "execution_count": null,
   "metadata": {},
   "outputs": [],
   "source": [
    "test_start = \"2021-07-02\"\n",
    "test_end = \"2021-07-10\" # now\n",
    "test_data = yf.download(\"MSFT\", start=test_start, end=test_end)\n",
    "test_data.reset_index(inplace=True)\n",
    "test_data.rename(lambda x: x.strip('*').replace(' ', '_').lower(), axis='columns', inplace=True)\n",
    "test_data['ROC'] = ROC(test_data['close'], 12)\n",
    "test_data['RSI'] = RSI(test_data)\n",
    "test_data['SMA_30'] = test_data['close'].rolling(30).mean().shift()\n",
    "test_data"
   ]
  },
  {
   "cell_type": "code",
   "execution_count": null,
   "metadata": {},
   "outputs": [],
   "source": [
    "# Close\n",
    "#actual_prices = test_data['close'].values\n",
    "#total_dataset = pd.concat((data['close'], test_data['close']), axis=0)\n",
    "#model_inputs = total_dataset[len(total_dataset) - len(test_data) - prediction_days:].values\n",
    "#model_inputs = model_inputs.reshape(-1,1)\n",
    "#model_inputs = scaler.transform(model_inputs)\n",
    "\n",
    "# Close & ROC\n",
    "actual_prices_2 = test_data['close'].values\n",
    "total_dataset_2 = pd.concat((data[['close', 'ROC']], test_data[['close', 'ROC']]), axis=0)\n",
    "\n",
    "model_inputs_2 = total_dataset_2[len(total_dataset_2) - len(test_data) - prediction_days:].values\n",
    "model_inputs_2 = scaler.transform(model_inputs_2)"
   ]
  },
  {
   "cell_type": "markdown",
   "metadata": {},
   "source": [
    "4. Make predictions on test data"
   ]
  },
  {
   "cell_type": "code",
   "execution_count": null,
   "metadata": {},
   "outputs": [],
   "source": [
    "# Close\n",
    "#x_test = []\n",
    "\n",
    "#for i in range(prediction_days, len(model_inputs)):\n",
    "#    x_test.append(model_inputs[i - prediction_days:i, 0])\n",
    "    \n",
    "#x_test = np.array(x_test)\n",
    "#x_test = np.reshape(x_test, (x_test.shape[0], x_test.shape[1], 1))\n",
    "\n",
    "#predicted_prices = RNN_model.predict(x_test)\n",
    "#predicted_prices = scaler.inverse_transform(predicted_prices)\n",
    "\n",
    "# Close & ROC\n",
    "x_test_2 = []\n",
    "\n",
    "for i in range(prediction_days, len(model_inputs_2)):\n",
    "    x_test_2.append(model_inputs_2[i - prediction_days:i, :])\n",
    "    \n",
    "x_test_2 = np.array(x_test_2)\n",
    "\n",
    "predicted_prices_2 = RNN_model_2.predict(x_test_2)\n",
    "\n",
    "# chỗ này tại vì cái scaler được fit cho 2 cột, mà prediction chỉ có 1 cột nên tile nó để inverse_transform\n",
    "# sau đó bỏ bớt 1 cái đi\n",
    "predicted_prices_2 = scaler.inverse_transform(np.tile(predicted_prices_2, (1, 2)))[:, 0]"
   ]
  },
  {
   "cell_type": "markdown",
   "metadata": {},
   "source": [
    "5. Plot the test predictions"
   ]
  },
  {
   "cell_type": "code",
   "execution_count": null,
   "metadata": {},
   "outputs": [],
   "source": [
    "#plt.plot(actual_prices, color='black',label='Actual prices')\n",
    "#plt.plot(predicted_prices, color='green', label='Predicted prices')\n",
    "#plt.title('Title')\n",
    "#plt.xlabel('Time')\n",
    "#plt.ylabel('MSFT Share Price')\n",
    "#plt.legend()\n",
    "#plt.show()\n",
    "\n",
    "# close & ROC\n",
    "plt.plot(actual_prices_2, color='black',label='Actual prices')\n",
    "plt.plot(predicted_prices_2, color='green', label='Predicted prices')\n",
    "plt.title('Title')\n",
    "plt.xlabel('Time')\n",
    "plt.ylabel('MSFT Share Price')\n",
    "plt.legend()\n",
    "plt.show()"
   ]
  },
  {
   "cell_type": "markdown",
   "metadata": {},
   "source": [
    "6. Predict next day"
   ]
  },
  {
   "cell_type": "code",
   "execution_count": null,
   "metadata": {},
   "outputs": [],
   "source": [
    "real_data = [model_inputs[len(model_inputs) + 1 - prediction_days:len(model_inputs+1),0]]\n",
    "real_data = np.array(real_data)\n",
    "real_data = np.reshape(real_data, (real_data.shape[0], real_data.shape[1], 1))\n",
    "\n",
    "prediction = model.predict(real_data)\n",
    "prediction = scaler.inverse_transform(prediction)\n",
    "print(\"Prediction: \")\n",
    "print(prediction)"
   ]
  },
  {
   "cell_type": "markdown",
   "metadata": {
    "id": "XMSv6xHZRrIo"
   },
   "source": [
    "# LSTM"
   ]
  },
  {
   "cell_type": "markdown",
   "metadata": {
    "id": "ML_xmoEdnyqw"
   },
   "source": [
    "\n",
    "1.   **Prepare Input**"
   ]
  },
  {
   "cell_type": "code",
   "execution_count": null,
   "metadata": {
    "colab": {
     "base_uri": "https://localhost:8080/"
    },
    "id": "OYVISpvFjaLm",
    "outputId": "422e6e4c-156c-4ef9-83b5-de2dce3aa1b4"
   },
   "outputs": [],
   "source": [
    "dataset = data[['close']].values\n",
    "dataset"
   ]
  },
  {
   "cell_type": "code",
   "execution_count": null,
   "metadata": {
    "colab": {
     "base_uri": "https://localhost:8080/"
    },
    "id": "w2T5ZLJu0OL0",
    "outputId": "e61571ac-91d6-4d4a-adb6-555967a626fa"
   },
   "outputs": [],
   "source": [
    "scaler=MinMaxScaler(feature_range=(0,1))\n",
    "dataset=scaler.fit_transform(dataset)\n",
    "dataset"
   ]
  },
  {
   "cell_type": "code",
   "execution_count": null,
   "metadata": {
    "colab": {
     "base_uri": "https://localhost:8080/"
    },
    "id": "YFIQOUcrjaLn",
    "outputId": "3fa73bf3-b566-4bab-9c2b-937664832fbf"
   },
   "outputs": [],
   "source": [
    "X, y = [], []\n",
    "for i in range(60, len(dataset)):\n",
    "    X.append(dataset[i-60:i][:])\n",
    "    y.append(dataset[i][0])\n",
    "print(len(X))\n",
    "print(len(y))"
   ]
  },
  {
   "cell_type": "code",
   "execution_count": null,
   "metadata": {
    "colab": {
     "base_uri": "https://localhost:8080/"
    },
    "id": "DvRLYPSdjaLn",
    "outputId": "619c4421-7248-494b-99df-e3365be272f7"
   },
   "outputs": [],
   "source": [
    "X_train, y_train = np.array(X[:math.ceil(len(X)*0.8)]), np.array(y[:math.ceil(len(X)*0.8)])\n",
    "X_val, y_val = np.array(X[math.ceil(len(X)*0.8):math.ceil(len(X)*0.9)]), np.array(y[math.ceil(len(X)*0.8):math.ceil(len(X)*0.9)])\n",
    "X_test, y_test = np.array(X[math.ceil(len(X)*0.9):]), np.array(y[math.ceil(len(X)*0.9):])\n",
    "print(\"Size train: \", X_train.shape)\n",
    "print(\"Size validate: \", X_val.shape)\n",
    "print(\"Size test: \", X_test.shape)"
   ]
  },
  {
   "cell_type": "markdown",
   "metadata": {
    "id": "L3Mg9J69oRiQ"
   },
   "source": [
    "\n",
    "2.   **Train Model**"
   ]
  },
  {
   "cell_type": "code",
   "execution_count": null,
   "metadata": {
    "id": "dwwX2wVyjaLo"
   },
   "outputs": [],
   "source": [
    "model = Sequential()\n",
    "model.add(LSTM(50, return_sequences=True, input_shape = (X_train.shape[1], 1)))\n",
    "model.add(LSTM(50, return_sequences=False))\n",
    "model.add(Dense(20, activation=None))\n",
    "model.add(Dense(1, activation=None))\n",
    "model.compile(optimizer='adam', loss='mean_squared_error')\n",
    "model.fit(X_train, y_train, batch_size=32, epochs=20, shuffle=True, validation_data=(X_val, y_val))\n",
    "model.save(\"MODEL_LSTM.h5\")"
   ]
  },
  {
   "cell_type": "markdown",
   "metadata": {
    "id": "-QxlrlrvpDgE"
   },
   "source": [
    "\n",
    "3.   **Test Model**"
   ]
  },
  {
   "cell_type": "code",
   "execution_count": null,
   "metadata": {
    "id": "qufaeUecjaLo"
   },
   "outputs": [],
   "source": [
    "model_lstm=load_model(\"MODEL_LSTM.h5\")"
   ]
  },
  {
   "cell_type": "code",
   "execution_count": null,
   "metadata": {
    "id": "0InbusZbjaLo",
    "jupyter": {
     "outputs_hidden": true
    },
    "tags": []
   },
   "outputs": [],
   "source": [
    "predictions = model_lstm.predict(X_test)\n",
    "predictions=scaler.inverse_transform(predictions)\n",
    "predictions"
   ]
  },
  {
   "cell_type": "code",
   "execution_count": null,
   "metadata": {
    "id": "YNcpx7B8jaLp",
    "jupyter": {
     "outputs_hidden": true
    },
    "tags": []
   },
   "outputs": [],
   "source": [
    "valid_df = data.iloc[-len(predictions):]\n",
    "valid_df['predictions'] = predictions"
   ]
  },
  {
   "cell_type": "code",
   "execution_count": null,
   "metadata": {
    "id": "auyC1gpvjaLp"
   },
   "outputs": [],
   "source": [
    "plt.figure(figsize = (20, 10))\n",
    "plt.plot(data['close'])\n",
    "plt.plot(valid_df['predictions'])\n",
    "plt.legend(['True price', 'Predict price'], loc = 'lower right')\n",
    "plt.show()"
   ]
  },
  {
   "cell_type": "code",
   "execution_count": null,
   "metadata": {},
   "outputs": [],
   "source": [
    "X_future = []\n",
    "X_future.append(dataset[-60:])\n",
    "X_future = np.array(X_future)\n",
    "X_future.shape"
   ]
  },
  {
   "cell_type": "code",
   "execution_count": null,
   "metadata": {
    "id": "Q56RqomE60Y2"
   },
   "outputs": [],
   "source": [
    "y_future = yf.download(\"MSFT\", start=\"2021-07-01\", end=\"2021-07-02\")\n",
    "y_future"
   ]
  },
  {
   "cell_type": "code",
   "execution_count": null,
   "metadata": {
    "id": "n-bEOolb6nKY"
   },
   "outputs": [],
   "source": [
    "y_pred = model_lstm.predict(X_future)\n",
    "y_pred = scaler.inverse_transform(y_pred)\n",
    "y_pred"
   ]
  },
  {
   "cell_type": "code",
   "execution_count": null,
   "metadata": {},
   "outputs": [],
   "source": [
    "!python3 1_StockApp.py"
   ]
  }
 ],
 "metadata": {
  "colab": {
   "collapsed_sections": [],
   "name": "1_attempt.ipynb",
   "provenance": [],
   "toc_visible": true
  },
  "kernelspec": {
   "display_name": "Python 3",
   "language": "python",
   "name": "python3"
  },
  "language_info": {
   "codemirror_mode": {
    "name": "ipython",
    "version": 3
   },
   "file_extension": ".py",
   "mimetype": "text/x-python",
   "name": "python",
   "nbconvert_exporter": "python",
   "pygments_lexer": "ipython3",
   "version": "3.8.5"
  }
 },
 "nbformat": 4,
 "nbformat_minor": 4
}
